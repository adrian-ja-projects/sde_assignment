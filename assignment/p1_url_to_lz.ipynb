{
 "cells": [
  {
   "cell_type": "code",
   "execution_count": 1,
   "metadata": {},
   "outputs": [],
   "source": [
    "#Notebook to download the assignment data and save it in the landingzone\n",
    "#the path folder conventino is data_lake/landingzone/{table/source/file_name}/{file_name}.{format extension}\n",
    "#Author: Adrian Jimenez 2022-05\n",
    "#----\n",
    "#To-do: add dynamic creation of target path for multiple loads\n",
    "\n",
    "from etl_utils.url_file import UrlFile"
   ]
  },
  {
   "cell_type": "code",
   "execution_count": 2,
   "metadata": {},
   "outputs": [
    {
     "name": "stdout",
     "output_type": "stream",
     "text": [
      "INFO: url get request completed response code: 200\n",
      "INFO: file assignment_data.jsonl.bz2 written on path /home/jovyan/work/data_lake/landingzone/assignment_data\n"
     ]
    }
   ],
   "source": [
    "url = 'https://cdn.unityads.unity3d.com/assignments/assignment_data.jsonl.bz2'\n",
    "target_path = '/home/jovyan/work/data_lake/landingzone/assignment_data'\n",
    "file_name = 'assignment_data.jsonl.bz2'\n",
    "#get data from url\n",
    "assignment_data = UrlFile(url, target_path, file_name)\n",
    "r = assignment_data.get_file_from_url()\n",
    "#write data to landingzone\n",
    "assignment_data.write_file_to_datalake(r)"
   ]
  },
  {
   "cell_type": "code",
   "execution_count": null,
   "metadata": {},
   "outputs": [],
   "source": []
  }
 ],
 "metadata": {
  "kernelspec": {
   "display_name": "Python 3 (ipykernel)",
   "language": "python",
   "name": "python3"
  },
  "language_info": {
   "codemirror_mode": {
    "name": "ipython",
    "version": 3
   },
   "file_extension": ".py",
   "mimetype": "text/x-python",
   "name": "python",
   "nbconvert_exporter": "python",
   "pygments_lexer": "ipython3",
   "version": "3.9.12"
  }
 },
 "nbformat": 4,
 "nbformat_minor": 4
}
