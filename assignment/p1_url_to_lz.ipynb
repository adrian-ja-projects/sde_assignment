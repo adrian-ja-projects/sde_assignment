{
 "cells": [
  {
   "cell_type": "code",
   "execution_count": null,
   "metadata": {},
   "outputs": [],
   "source": [
    "#Notebook to download the assignment data and save it in the landingzone\n",
    "#the path folder conventino is data_lake/landingzone/{table/source/file_name}/{file_name}.{format extension}\n",
    "#Author: Adrian Jimenez 2022-05\n",
    "#----\n",
    "#To-do: add dynamic creation of target path for multiple loads\n",
    "\n",
    "from etl_utils.url_file import UrlFile"
   ]
  },
  {
   "cell_type": "code",
   "execution_count": null,
   "metadata": {},
   "outputs": [],
   "source": [
    "url = 'https://cdn.unityads.unity3d.com/assignments/assignment_data.jsonl.bz2'\n",
    "target_path = '/home/jovyan/work/assignment/data_lake/landingzone/assignment_data'\n",
    "file_name = 'assignment_data.jsonl.bz2'\n",
    "#get data from url\n",
    "assignment_data = UrlFile(url, target_path, file_name)\n",
    "r = assignment_data.get_file_from_url()\n",
    "#write data to landingzone\n",
    "assignment_data.write_file_to_datalake(r)"
   ]
  }
 ],
 "metadata": {
  "language_info": {
   "name": "python"
  },
  "orig_nbformat": 4
 },
 "nbformat": 4,
 "nbformat_minor": 2
}
