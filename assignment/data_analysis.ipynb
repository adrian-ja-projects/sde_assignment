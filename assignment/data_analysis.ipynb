{
 "cells": [
  {
   "cell_type": "code",
   "execution_count": 7,
   "id": "5c0445c8-5133-4c1a-a560-5be5ceeff8ab",
   "metadata": {},
   "outputs": [],
   "source": [
    "#Author: Adrian J 2022-05\n",
    "import pandas as pd\n",
    "import matplotlib.pyplot as plt\n",
    "\n",
    "from delta import * #to-do remove the wild import from delta\n",
    "from pyspark.sql import functions as F\n",
    "from pyspark.sql import SparkSession"
   ]
  },
  {
   "cell_type": "code",
   "execution_count": 2,
   "id": "32561415-349d-4b3c-9fd4-47a9dd9a1ffe",
   "metadata": {},
   "outputs": [],
   "source": [
    "#get or create spark delta session\n",
    "builder = (\n",
    "    SparkSession\n",
    "    .builder\n",
    "    .master(\"local\")\n",
    "    .appName(\"p4_data_analysis\")\n",
    ")\n",
    "spark = configure_spark_with_delta_pip(builder).getOrCreate()"
   ]
  },
  {
   "cell_type": "code",
   "execution_count": 3,
   "id": "fe3b2351-e90f-4222-a819-0050bf8aa0fb",
   "metadata": {},
   "outputs": [
    {
     "data": {
      "text/plain": [
       "DataFrame[country: string, player_id: string, session_id: string, start_ts: timestamp, end_ts: timestamp, session_status: int, DL_INSERT_TS: timestamp, DL_UPDATE_TS: timestamp, EVENT_DATE: date]"
      ]
     },
     "execution_count": 3,
     "metadata": {},
     "output_type": "execute_result"
    }
   ],
   "source": [
    "#read delta table\n",
    "schema = 'uc_assignment'\n",
    "table_name = 'uc_delta_session_events'\n",
    "uc_path = f'/home/jovyan/work/data_lake/use_case/{schema}/{table_name}'\n",
    "df_uc_assignment = spark.read.format(\"delta\").load(uc_path)\n",
    "df_uc_assignment.cache() "
   ]
  },
  {
   "cell_type": "markdown",
   "id": "390b8048-abb8-41d7-a660-bbb8b92ce8e5",
   "metadata": {
    "tags": []
   },
   "source": [
    "## Player Session Insights\n",
    "The table used for the analysis is the table uc_delta_session_events is ACID transactions enabled table. This means each row is a unique session_id. \n",
    "\n",
    "Table description:\\\n",
    "-*country*: country\\\n",
    "-*player_id*: unique player uuid\\\n",
    "-*session_id*: unique session uuid\\\n",
    "-*start_ts*: start session timestamp\\\n",
    "-*end_ts*: end session timestamp\\\n",
    "-*session_status*: 0-> not completed, 1-> completed\\\n",
    "-*DL_INSERT_TS*: Data Lake Insert row ts\\\n",
    "-*DL_UPDATE_TS*: Data Lake update row ts"
   ]
  },
  {
   "cell_type": "markdown",
   "id": "f624ac09-0b12-493b-bed9-4d924a2e79c1",
   "metadata": {},
   "source": [
    "1. How many sessions are in the dataset?"
   ]
  },
  {
   "cell_type": "code",
   "execution_count": 15,
   "id": "51f8902f-26d5-4d10-86c7-0aefa65b1922",
   "metadata": {},
   "outputs": [
    {
     "name": "stdout",
     "output_type": "stream",
     "text": [
      "Number of sessions in the dataset is : 500587\n"
     ]
    }
   ],
   "source": [
    "number_of_sessions = df_uc_assignment.count()\n",
    "print(f\"Number of sessions in the dataset is : {number_of_sessions}\")"
   ]
  },
  {
   "cell_type": "markdown",
   "id": "1c78b935-92fb-4113-b794-2f4d8df89585",
   "metadata": {},
   "source": [
    "2. How many session are completed per country? top 10 results sorted by count and country"
   ]
  },
  {
   "cell_type": "code",
   "execution_count": 28,
   "id": "c385ef84-7c5f-4d06-9292-ec801d3291c0",
   "metadata": {},
   "outputs": [
    {
     "name": "stdout",
     "output_type": "stream",
     "text": [
      "+-------+------------------------------+\n",
      "|country|completed_sessions_per_country|\n",
      "+-------+------------------------------+\n",
      "|     IT|                          2839|\n",
      "|     SH|                          2672|\n",
      "|     AZ|                          2670|\n",
      "|     AT|                          2655|\n",
      "|     WF|                          2616|\n",
      "|     VA|                          2602|\n",
      "|     HU|                          2584|\n",
      "|     IL|                          2563|\n",
      "|     RO|                          2550|\n",
      "|     KR|                          2535|\n",
      "+-------+------------------------------+\n",
      "only showing top 10 rows\n",
      "\n"
     ]
    }
   ],
   "source": [
    "(df_uc_assignment\n",
    " .groupBy(\"country\")\n",
    " .agg(F.sum(\"session_status\").alias(\"completed_sessions_per_country\"))\n",
    " .sort(F.col(\"completed_sessions_per_country\").desc(), F.col(\"country\").asc())\n",
    " .show(10)\n",
    ")\n",
    "#2839"
   ]
  },
  {
   "cell_type": "markdown",
   "id": "4a36320f-56ae-412e-be3c-09d52cca1a9a",
   "metadata": {},
   "source": [
    "3. How many session are completed per player? top 10 results sorted by count and country"
   ]
  },
  {
   "cell_type": "code",
   "execution_count": 31,
   "id": "2f6d294e-5349-4789-9822-1fe01efa85a7",
   "metadata": {},
   "outputs": [
    {
     "name": "stdout",
     "output_type": "stream",
     "text": [
      "+--------------------------------+-----------------------------+\n",
      "|player_id                       |completed_sessions_per_player|\n",
      "+--------------------------------+-----------------------------+\n",
      "|0052e4cfaf494af29d567fcf93057029|50                           |\n",
      "|008c31d6d87d4a72ade8900d4c031f59|50                           |\n",
      "|019f6864a44e4cd1a271db0fc08c7555|50                           |\n",
      "|01d1f31c3c864538a6a5f3cb238d0072|50                           |\n",
      "|0259292bb77e4aaba6782372085990be|50                           |\n",
      "|04318f09e6e7434bb48226f4a8745c21|50                           |\n",
      "|060243602575481db3643bdaacc1146e|50                           |\n",
      "|067b20022f2040b0a0b94efb221e1a6e|50                           |\n",
      "|072d69b007434968966b4c9ddc4e987c|50                           |\n",
      "|08037331842341b2bbfd51d2b12f9049|50                           |\n",
      "+--------------------------------+-----------------------------+\n",
      "only showing top 10 rows\n",
      "\n"
     ]
    }
   ],
   "source": [
    "(df_uc_assignment\n",
    " .groupBy(\"player_id\")\n",
    " .agg(F.sum(\"session_status\").alias(\"completed_sessions_per_player\"))\n",
    " .sort(F.col(\"completed_sessions_per_player\").desc(), F.col(\"player_id\").asc())\n",
    " .show(10, truncate=False)\n",
    ")"
   ]
  },
  {
   "cell_type": "markdown",
   "id": "36d23904-5345-494d-b202-3cd6e7c121ae",
   "metadata": {},
   "source": [
    "4. What is the country with the most sessions started in 2016?"
   ]
  },
  {
   "cell_type": "code",
   "execution_count": 39,
   "id": "063e6f1d-591f-4d7e-a435-ef471709fdca",
   "metadata": {},
   "outputs": [
    {
     "name": "stdout",
     "output_type": "stream",
     "text": [
      "The country with most started sessions in 2016 was: IT\n"
     ]
    }
   ],
   "source": [
    "country_with_most_started_sessions_2016 =(\n",
    "    df_uc_assignment\n",
    "    .withColumn(\"session_year\", F.year(F.col(\"start_ts\")))\n",
    "    .where(F.col(\"session_year\")==\"2016\")\n",
    "    .groupBy(\"country\")\n",
    "    .agg(F.count(\"session_status\").alias(\"started_sessions_per_country\"))\n",
    "    .sort(F.col(\"started_sessions_per_country\").desc(), F.col(\"country\").asc())\n",
    "    .select(\"country\").collect()[0][0]\n",
    ")\n",
    "print(f\"The country with most started sessions in 2016 was: {country_with_most_started_sessions_2016}\")"
   ]
  },
  {
   "cell_type": "markdown",
   "id": "e60ae70c-22c2-44be-b567-9bb2f5558e93",
   "metadata": {},
   "source": [
    "5. player session completed per country plot sorted by count desc and countr asc"
   ]
  },
  {
   "cell_type": "code",
   "execution_count": 11,
   "id": "d2367183-2c5e-4ee0-9fba-c0b57453a580",
   "metadata": {},
   "outputs": [
    {
     "data": {
      "text/html": [
       "<div>\n",
       "<style scoped>\n",
       "    .dataframe tbody tr th:only-of-type {\n",
       "        vertical-align: middle;\n",
       "    }\n",
       "\n",
       "    .dataframe tbody tr th {\n",
       "        vertical-align: top;\n",
       "    }\n",
       "\n",
       "    .dataframe thead th {\n",
       "        text-align: right;\n",
       "    }\n",
       "</style>\n",
       "<table border=\"1\" class=\"dataframe\">\n",
       "  <thead>\n",
       "    <tr style=\"text-align: right;\">\n",
       "      <th></th>\n",
       "      <th>country</th>\n",
       "      <th>completed_sessions_per_country</th>\n",
       "    </tr>\n",
       "  </thead>\n",
       "  <tbody>\n",
       "    <tr>\n",
       "      <th>0</th>\n",
       "      <td>IT</td>\n",
       "      <td>2839</td>\n",
       "    </tr>\n",
       "    <tr>\n",
       "      <th>1</th>\n",
       "      <td>SH</td>\n",
       "      <td>2672</td>\n",
       "    </tr>\n",
       "    <tr>\n",
       "      <th>2</th>\n",
       "      <td>AZ</td>\n",
       "      <td>2670</td>\n",
       "    </tr>\n",
       "    <tr>\n",
       "      <th>3</th>\n",
       "      <td>AT</td>\n",
       "      <td>2655</td>\n",
       "    </tr>\n",
       "    <tr>\n",
       "      <th>4</th>\n",
       "      <td>WF</td>\n",
       "      <td>2616</td>\n",
       "    </tr>\n",
       "    <tr>\n",
       "      <th>5</th>\n",
       "      <td>VA</td>\n",
       "      <td>2602</td>\n",
       "    </tr>\n",
       "    <tr>\n",
       "      <th>6</th>\n",
       "      <td>HU</td>\n",
       "      <td>2584</td>\n",
       "    </tr>\n",
       "    <tr>\n",
       "      <th>7</th>\n",
       "      <td>IL</td>\n",
       "      <td>2563</td>\n",
       "    </tr>\n",
       "    <tr>\n",
       "      <th>8</th>\n",
       "      <td>RO</td>\n",
       "      <td>2550</td>\n",
       "    </tr>\n",
       "    <tr>\n",
       "      <th>9</th>\n",
       "      <td>KR</td>\n",
       "      <td>2535</td>\n",
       "    </tr>\n",
       "  </tbody>\n",
       "</table>\n",
       "</div>"
      ],
      "text/plain": [
       "  country  completed_sessions_per_country\n",
       "0      IT                            2839\n",
       "1      SH                            2672\n",
       "2      AZ                            2670\n",
       "3      AT                            2655\n",
       "4      WF                            2616\n",
       "5      VA                            2602\n",
       "6      HU                            2584\n",
       "7      IL                            2563\n",
       "8      RO                            2550\n",
       "9      KR                            2535"
      ]
     },
     "execution_count": 11,
     "metadata": {},
     "output_type": "execute_result"
    }
   ],
   "source": [
    "pd_completed_session_per_country = (\n",
    "    df_uc_assignment\n",
    "    .groupBy(\"country\")\n",
    "    .agg(F.sum(\"session_status\").alias(\"completed_sessions_per_country\"))\n",
    "    .sort(F.col(\"completed_sessions_per_country\").desc(), F.col(\"country\").asc())\n",
    "    .limit(10)\n",
    "    .toPandas()\n",
    ")\n",
    "\n",
    "pd_completed_session_per_country"
   ]
  },
  {
   "cell_type": "code",
   "execution_count": 21,
   "id": "8302b345-96a0-424f-8397-0d0d44773411",
   "metadata": {},
   "outputs": [
    {
     "data": {
      "text/plain": [
       "<AxesSubplot:xlabel='country'>"
      ]
     },
     "execution_count": 21,
     "metadata": {},
     "output_type": "execute_result"
    },
    {
     "data": {
      "image/png": "[encoded data removed]",
      "text/plain": [
       "<Figure size 432x288 with 1 Axes>"
      ]
     },
     "metadata": {
      "needs_background": "light"
     },
     "output_type": "display_data"
    }
   ],
   "source": [
    "pd_completed_session_per_country.plot.bar(x='country', y='completed_sessions_per_country')"
   ]
  },
  {
   "cell_type": "code",
   "execution_count": null,
   "id": "151541bb-3a8f-421b-83d5-478a5fe495c0",
   "metadata": {},
   "outputs": [],
   "source": []
  }
 ],
 "metadata": {
  "kernelspec": {
   "display_name": "Python 3 (ipykernel)",
   "language": "python",
   "name": "python3"
  },
  "language_info": {
   "codemirror_mode": {
    "name": "ipython",
    "version": 3
   },
   "file_extension": ".py",
   "mimetype": "text/x-python",
   "name": "python",
   "nbconvert_exporter": "python",
   "pygments_lexer": "ipython3",
   "version": "3.9.12"
  }
 },
 "nbformat": 4,
 "nbformat_minor": 5
}
