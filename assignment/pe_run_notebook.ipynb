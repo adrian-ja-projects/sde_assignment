{
 "cells": [
  {
   "cell_type": "code",
   "execution_count": 1,
   "metadata": {},
   "outputs": [],
   "source": [
    "#author: Adrian J\n",
    "#notebook to prepare for the pipeline run"
   ]
  },
  {
   "cell_type": "code",
   "execution_count": 2,
   "metadata": {},
   "outputs": [
    {
     "ename": "NoHostAvailable",
     "evalue": "('Unable to connect to any servers', {'0.0.0.0:9042': ConnectionRefusedError(111, \"Tried connecting to [('0.0.0.0', 9042)]. Last error: Connection refused\")})",
     "output_type": "error",
     "traceback": [
      "\u001b[0;31m---------------------------------------------------------------------------\u001b[0m",
      "\u001b[0;31mNoHostAvailable\u001b[0m                           Traceback (most recent call last)",
      "File \u001b[0;32m~/work/init_script_cassandra.py:7\u001b[0m, in \u001b[0;36m<module>\u001b[0;34m\u001b[0m\n\u001b[1;32m      5\u001b[0m auth_provider \u001b[38;5;241m=\u001b[39m PlainTextAuthProvider(username\u001b[38;5;241m=\u001b[39m\u001b[38;5;124m\"\u001b[39m\u001b[38;5;124mcassandra\u001b[39m\u001b[38;5;124m\"\u001b[39m, password\u001b[38;5;241m=\u001b[39m\u001b[38;5;124m\"\u001b[39m\u001b[38;5;124mcassandra\u001b[39m\u001b[38;5;124m\"\u001b[39m)\n\u001b[1;32m      6\u001b[0m cluster \u001b[38;5;241m=\u001b[39m Cluster([\u001b[38;5;124m'\u001b[39m\u001b[38;5;124m0.0.0.0\u001b[39m\u001b[38;5;124m'\u001b[39m], port\u001b[38;5;241m=\u001b[39m\u001b[38;5;241m9042\u001b[39m, auth_provider\u001b[38;5;241m=\u001b[39mauth_provider)\n\u001b[0;32m----> 7\u001b[0m session \u001b[38;5;241m=\u001b[39m \u001b[43mcluster\u001b[49m\u001b[38;5;241;43m.\u001b[39;49m\u001b[43mconnect\u001b[49m\u001b[43m(\u001b[49m\u001b[43m)\u001b[49m\n\u001b[1;32m      9\u001b[0m \u001b[38;5;66;03m#drop keyspace if exists\u001b[39;00m\n\u001b[1;32m     10\u001b[0m drop_keyspace \u001b[38;5;241m=\u001b[39m session\u001b[38;5;241m.\u001b[39mexecute(\u001b[38;5;124m\"\u001b[39m\u001b[38;5;124mDROP KEYSPACE IF EXISTS session_events;\u001b[39m\u001b[38;5;124m\"\u001b[39m)\n",
      "File \u001b[0;32m/opt/conda/lib/python3.9/site-packages/cassandra/cluster.py:1667\u001b[0m, in \u001b[0;36mcassandra.cluster.Cluster.connect\u001b[0;34m()\u001b[0m\n",
      "File \u001b[0;32m/opt/conda/lib/python3.9/site-packages/cassandra/cluster.py:1703\u001b[0m, in \u001b[0;36mcassandra.cluster.Cluster.connect\u001b[0;34m()\u001b[0m\n",
      "File \u001b[0;32m/opt/conda/lib/python3.9/site-packages/cassandra/cluster.py:1690\u001b[0m, in \u001b[0;36mcassandra.cluster.Cluster.connect\u001b[0;34m()\u001b[0m\n",
      "File \u001b[0;32m/opt/conda/lib/python3.9/site-packages/cassandra/cluster.py:3488\u001b[0m, in \u001b[0;36mcassandra.cluster.ControlConnection.connect\u001b[0;34m()\u001b[0m\n",
      "File \u001b[0;32m/opt/conda/lib/python3.9/site-packages/cassandra/cluster.py:3533\u001b[0m, in \u001b[0;36mcassandra.cluster.ControlConnection._reconnect_internal\u001b[0;34m()\u001b[0m\n",
      "\u001b[0;31mNoHostAvailable\u001b[0m: ('Unable to connect to any servers', {'0.0.0.0:9042': ConnectionRefusedError(111, \"Tried connecting to [('0.0.0.0', 9042)]. Last error: Connection refused\")})"
     ]
    },
    {
     "name": "stdout",
     "output_type": "stream",
     "text": [
      "INFO: Table r_session_events exists... deleting\n",
      "INFO: Table r_session_events persisted in location /home/jovyan/work/data_lake/raw/assignment_data/r_session_events/\n",
      "INFO: Table uc_delta_session_events exists... deleting\n",
      "INFO: Table uc_delta_session_events persisted in location /home/jovyan/work/data_lake/use_case/uc_assignment/uc_delta_session_events/\n"
     ]
    }
   ],
   "source": [
    "#re-create required tables\n",
    "%run '/home/jovyan/work/starting_jobs/p01_re_create_tables.ipynb'"
   ]
  },
  {
   "cell_type": "code",
   "execution_count": null,
   "metadata": {},
   "outputs": [],
   "source": []
  },
  {
   "cell_type": "code",
   "execution_count": null,
   "metadata": {},
   "outputs": [],
   "source": [
    "#start listener that writes into delta table\n",
    "%run '/home/jovyan/work/starting_jobs/p02_start_w_stream_to_delta.ipynb'"
   ]
  },
  {
   "cell_type": "code",
   "execution_count": null,
   "metadata": {},
   "outputs": [],
   "source": [
    "#start listener\n",
    "%run '/home/jovyan/work/starting_jobs/p03_start_w_stream_cass.ipynb'"
   ]
  }
 ],
 "metadata": {
  "kernelspec": {
   "display_name": "Python 3 (ipykernel)",
   "language": "python",
   "name": "python3"
  },
  "language_info": {
   "codemirror_mode": {
    "name": "ipython",
    "version": 3
   },
   "file_extension": ".py",
   "mimetype": "text/x-python",
   "name": "python",
   "nbconvert_exporter": "python",
   "pygments_lexer": "ipython3",
   "version": "3.9.12"
  }
 },
 "nbformat": 4,
 "nbformat_minor": 4
}
