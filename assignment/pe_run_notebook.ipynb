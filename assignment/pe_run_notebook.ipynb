{
 "cells": [
  {
   "cell_type": "code",
   "execution_count": 1,
   "metadata": {},
   "outputs": [],
   "source": [
    "#author: Adrian J\n",
    "#notebook to prepare for the pipeline run"
   ]
  },
  {
   "cell_type": "code",
   "execution_count": 2,
   "metadata": {},
   "outputs": [
    {
     "name": "stdout",
     "output_type": "stream",
     "text": [
      "INFO: table ession_events.api_start_session_by_hour re-created in cassandra db\n",
      "INFO: keyspace session_events re-created in cassandra db\n",
      "INFO: table ession_events.api_start_session_by_hour re-created in cassandra db\n",
      "INFO: Table r_session_events exists... deleting\n",
      "INFO: Table r_session_events persisted in location /home/jovyan/work/data_lake/raw/assignment_data/r_session_events/\n",
      "INFO: Table uc_delta_session_events exists... deleting\n",
      "INFO: Table uc_delta_session_events persisted in location /home/jovyan/work/data_lake/use_case/uc_assignment/uc_delta_session_events/\n"
     ]
    }
   ],
   "source": [
    "#re-create required tables\n",
    "%run '/home/jovyan/work/starting_jobs/p01_re_create_tables.ipynb'"
   ]
  },
  {
   "cell_type": "code",
   "execution_count": 3,
   "metadata": {},
   "outputs": [
    {
     "name": "stdout",
     "output_type": "stream",
     "text": [
      "INFO: listener to write into delta initiated\n"
     ]
    }
   ],
   "source": [
    "#start listener that writes into delta table\n",
    "%run '/home/jovyan/work/starting_jobs/p02_start_w_stream_to_delta.ipynb'"
   ]
  },
  {
   "cell_type": "code",
   "execution_count": 4,
   "metadata": {},
   "outputs": [
    {
     "name": "stdout",
     "output_type": "stream",
     "text": [
      "INFO: listener to write into cassandra initiated\n",
      "INFO: metadata = Row(version=1, timestamp=datetime.datetime(2022, 5, 7, 5, 52, 25, 719000), userId=None, userName=None, operation='MERGE', operationParameters={'matchedPredicates': '[{\"actionType\":\"update\"}]', 'predicate': '(t.session_id = i.session_id)', 'notMatchedPredicates': '[{\"actionType\":\"insert\"}]'}, job=None, notebook=None, clusterId=None, readVersion=0, isolationLevel='Serializable', isBlindAppend=False, operationMetrics={'numOutputRows': '17227', 'numTargetRowsInserted': '17227', 'numTargetRowsUpdated': '0', 'numTargetFilesAdded': '1', 'numTargetFilesRemoved': '0', 'numTargetRowsDeleted': '0', 'scanTimeMs': '33355', 'numSourceRows': '0', 'executionTimeMs': '128252', 'numTargetRowsCopied': '0', 'rewriteTimeMs': '94742'}, userMetadata=None, engineInfo='Apache-Spark/3.2.1 Delta-Lake/1.2.0')\n",
      "INFO: metadata = Row(version=2, timestamp=datetime.datetime(2022, 5, 7, 5, 54, 38, 913000), userId=None, userName=None, operation='MERGE', operationParameters={'matchedPredicates': '[{\"actionType\":\"update\"}]', 'predicate': '(t.session_id = i.session_id)', 'notMatchedPredicates': '[{\"actionType\":\"insert\"}]'}, job=None, notebook=None, clusterId=None, readVersion=1, isolationLevel='Serializable', isBlindAppend=False, operationMetrics={'numOutputRows': '50485', 'numTargetRowsInserted': '33258', 'numTargetRowsUpdated': '669', 'numTargetFilesAdded': '3', 'numTargetFilesRemoved': '1', 'numTargetRowsDeleted': '0', 'scanTimeMs': '64213', 'numSourceRows': '33927', 'executionTimeMs': '128405', 'numTargetRowsCopied': '16558', 'rewriteTimeMs': '64092'}, userMetadata=None, engineInfo='Apache-Spark/3.2.1 Delta-Lake/1.2.0')\n"
     ]
    }
   ],
   "source": [
    "#start listener\n",
    "%run '/home/jovyan/work/starting_jobs/p03_start_w_stream_cass.ipynb'"
   ]
  }
 ],
 "metadata": {
  "kernelspec": {
   "display_name": "Python 3 (ipykernel)",
   "language": "python",
   "name": "python3"
  },
  "language_info": {
   "codemirror_mode": {
    "name": "ipython",
    "version": 3
   },
   "file_extension": ".py",
   "mimetype": "text/x-python",
   "name": "python",
   "nbconvert_exporter": "python",
   "pygments_lexer": "ipython3",
   "version": "3.9.12"
  }
 },
 "nbformat": 4,
 "nbformat_minor": 4
}
