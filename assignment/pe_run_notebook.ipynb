{
 "cells": [
  {
   "cell_type": "code",
   "execution_count": null,
   "metadata": {},
   "outputs": [],
   "source": [
    "#author: Adrian J\n",
    "#notebook to prepare for the pipeline run"
   ]
  },
  {
   "cell_type": "code",
   "execution_count": null,
   "metadata": {},
   "outputs": [],
   "source": [
    "#re-create required tables\n",
    "%run '/home/jovyan/work/starting_jobs/p01_re_create_tables.ipynb'"
   ]
  },
  {
   "cell_type": "code",
   "execution_count": null,
   "metadata": {},
   "outputs": [],
   "source": [
    "#start listener that writes into delta table\n",
    "%run '/home/jovyan/work/starting_jobs/p02_start_w_stream_to_delta.ipynb'"
   ]
  },
  {
   "cell_type": "code",
   "execution_count": null,
   "metadata": {},
   "outputs": [],
   "source": [
    "#start listener\n",
    "%run '/home/jovyan/work/starting_jobs/p03_start_w_stream_cass.ipynb'"
   ]
  }
 ],
 "metadata": {
  "language_info": {
   "name": "python"
  },
  "orig_nbformat": 4
 },
 "nbformat": 4,
 "nbformat_minor": 2
}
