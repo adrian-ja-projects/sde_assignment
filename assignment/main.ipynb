{
 "cells": [
  {
   "cell_type": "code",
   "execution_count": 3,
   "metadata": {},
   "outputs": [],
   "source": [
    "#author: Adrian J\n",
    "#notebook to run all the pipelines"
   ]
  },
  {
   "cell_type": "code",
   "execution_count": 9,
   "metadata": {},
   "outputs": [
    {
     "name": "stdout",
     "output_type": "stream",
     "text": [
      "INFO: table ession_events.api_start_session_by_hour re-created in cassandra db\n",
      "INFO: keyspace session_events re-created in cassandra db\n",
      "INFO: table ession_events.api_start_session_by_hour re-created in cassandra db\n",
      "INFO: Table r_session_events exists... deleting\n",
      "INFO: Table r_session_events persisted in location /home/jovyan/work/data_lake/raw/assignment_data/r_session_events/\n",
      "INFO: Table uc_delta_session_events exists... deleting\n",
      "INFO: Table uc_delta_session_events persisted in location /home/jovyan/work/data_lake/use_case/uc_assignment/uc_delta_session_events/\n"
     ]
    }
   ],
   "source": [
    "#re-create required tables\n",
    "%run '/home/jovyan/work/starting_jobs/p01_re_create_tables.ipynb'"
   ]
  },
  {
   "cell_type": "code",
   "execution_count": 10,
   "metadata": {},
   "outputs": [
    {
     "name": "stdout",
     "output_type": "stream",
     "text": [
      "INFO: listener to write into delta initiated\n"
     ]
    }
   ],
   "source": [
    "#start listener that writes into delta table\n",
    "#prints medata from upsert into delta table in uc_case zone\n",
    "#SOURCE:delta table 'r_sesssion_events' in raw zone\n",
    "#SINK:delta table 'uc_delta_session_events'\n",
    "%run '/home/jovyan/work/starting_jobs/p02_start_w_stream_to_delta.ipynb'"
   ]
  },
  {
   "cell_type": "code",
   "execution_count": 11,
   "metadata": {},
   "outputs": [
    {
     "name": "stdout",
     "output_type": "stream",
     "text": [
      "INFO: listener to write into cassandra initiated\n"
     ]
    }
   ],
   "source": [
    "#start listener for cassandra and writes into the db\n",
    "#SOURCE:delta table 'r_sesssion_events' in raw zone\n",
    "#SINK: cassandra 'session_events'.'api_completed_sessions' & 'session_events'.'api_start_session_by_hour'\n",
    "%run '/home/jovyan/work/starting_jobs/p03_start_w_stream_cass.ipynb'"
   ]
  },
  {
   "cell_type": "code",
   "execution_count": 7,
   "metadata": {},
   "outputs": [
    {
     "name": "stdout",
     "output_type": "stream",
     "text": [
      "INFO: url get request completed response code: 200\n",
      "INFO: file assignment_data.jsonl.bz2 written on path /home/jovyan/work/data_lake/landingzone/assignment_data\n"
     ]
    }
   ],
   "source": [
    "#download the assignment data and place it in the landingzone as raw zipped file\n",
    "#print infoo and file location when completed\n",
    "#SOURCE: URL download file from assingment\n",
    "#SINK: landingzone  assignment_data as raw zipped file\n",
    "%run '/home/jovyan/work/p1_url_to_lz.ipynb'"
   ]
  },
  {
   "cell_type": "code",
   "execution_count": 12,
   "metadata": {},
   "outputs": [
    {
     "name": "stdout",
     "output_type": "stream",
     "text": [
      "INFO: assignment data loaded in dataframe\n",
      "INFO: Upsert Mode -> append\n",
      "INFO: metadata = Row(version=1, timestamp=datetime.datetime(2022, 5, 7, 7, 36, 28, 551000), userId=None, userName=None, operation='MERGE', operationParameters={'matchedPredicates': '[]', 'predicate': '(e.EVENT_DATE = i.EVENT_DATE)', 'notMatchedPredicates': '[{\"actionType\":\"insert\"}]'}, job=None, notebook=None, clusterId=None, readVersion=0, isolationLevel='Serializable', isBlindAppend=False, operationMetrics={'numOutputRows': '33071', 'numTargetRowsInserted': '0', 'numTargetRowsUpdated': '0', 'numTargetFilesAdded': '1', 'numTargetFilesRemoved': '0', 'numTargetRowsDeleted': '0', 'scanTimeMs': '0', 'numSourceRows': '33071', 'executionTimeMs': '2330', 'numTargetRowsCopied': '0', 'rewriteTimeMs': '2308'}, userMetadata=None, engineInfo='Apache-Spark/3.2.1 Delta-Lake/1.2.0')\n",
      "INFO: Upsert Mode -> append\n",
      "INFO: metadata = Row(version=2, timestamp=datetime.datetime(2022, 5, 7, 7, 36, 35, 299000), userId=None, userName=None, operation='MERGE', operationParameters={'matchedPredicates': '[]', 'predicate': '(e.EVENT_DATE = i.EVENT_DATE)', 'notMatchedPredicates': '[{\"actionType\":\"insert\"}]'}, job=None, notebook=None, clusterId=None, readVersion=1, isolationLevel='Serializable', isBlindAppend=False, operationMetrics={'numOutputRows': '32941', 'numTargetRowsInserted': '0', 'numTargetRowsUpdated': '0', 'numTargetFilesAdded': '1', 'numTargetFilesRemoved': '0', 'numTargetRowsDeleted': '0', 'scanTimeMs': '0', 'numSourceRows': '32941', 'executionTimeMs': '2683', 'numTargetRowsCopied': '0', 'rewriteTimeMs': '2582'}, userMetadata=None, engineInfo='Apache-Spark/3.2.1 Delta-Lake/1.2.0')\n",
      "INFO: metadata = Row(version=1, timestamp=datetime.datetime(2022, 5, 7, 7, 38, 15, 315000), userId=None, userName=None, operation='MERGE', operationParameters={'matchedPredicates': '[{\"actionType\":\"update\"}]', 'predicate': '(t.session_id = i.session_id)', 'notMatchedPredicates': '[{\"actionType\":\"insert\"}]'}, job=None, notebook=None, clusterId=None, readVersion=0, isolationLevel='Serializable', isBlindAppend=False, operationMetrics={'numOutputRows': '17227', 'numTargetRowsInserted': '17227', 'numTargetRowsUpdated': '0', 'numTargetFilesAdded': '1', 'numTargetFilesRemoved': '0', 'numTargetRowsDeleted': '0', 'scanTimeMs': '1759', 'numSourceRows': '0', 'executionTimeMs': '98100', 'numTargetRowsCopied': '0', 'rewriteTimeMs': '96280'}, userMetadata=None, engineInfo='Apache-Spark/3.2.1 Delta-Lake/1.2.0')\n",
      "INFO: Upsert Mode -> append\n",
      "INFO: metadata = Row(version=3, timestamp=datetime.datetime(2022, 5, 7, 7, 38, 17, 138000), userId=None, userName=None, operation='MERGE', operationParameters={'matchedPredicates': '[]', 'predicate': '(e.EVENT_DATE = i.EVENT_DATE)', 'notMatchedPredicates': '[{\"actionType\":\"insert\"}]'}, job=None, notebook=None, clusterId=None, readVersion=2, isolationLevel='Serializable', isBlindAppend=False, operationMetrics={'numOutputRows': '33512', 'numTargetRowsInserted': '0', 'numTargetRowsUpdated': '0', 'numTargetFilesAdded': '1', 'numTargetFilesRemoved': '0', 'numTargetRowsDeleted': '0', 'scanTimeMs': '0', 'numSourceRows': '33512', 'executionTimeMs': '97095', 'numTargetRowsCopied': '0', 'rewriteTimeMs': '96959'}, userMetadata=None, engineInfo='Apache-Spark/3.2.1 Delta-Lake/1.2.0')\n"
     ]
    }
   ],
   "source": [
    "#read raw data and write into delta table in raw zone\n",
    "#listener will then stream data to 1. Cassandra 2.delta table\n",
    "#SOURCE: raw assingment zipped assingment data in landingzone\n",
    "#SINK: delta table 'r_session_events' in assingment data in raw zone\n",
    "%run '/home/jovyan/work/p2_lz_to_raw.ipynb'"
   ]
  }
 ],
 "metadata": {
  "kernelspec": {
   "display_name": "Python 3 (ipykernel)",
   "language": "python",
   "name": "python3"
  },
  "language_info": {
   "codemirror_mode": {
    "name": "ipython",
    "version": 3
   },
   "file_extension": ".py",
   "mimetype": "text/x-python",
   "name": "python",
   "nbconvert_exporter": "python",
   "pygments_lexer": "ipython3",
   "version": "3.9.12"
  }
 },
 "nbformat": 4,
 "nbformat_minor": 4
}
