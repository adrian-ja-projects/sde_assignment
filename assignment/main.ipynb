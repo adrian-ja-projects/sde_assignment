{
 "cells": [
  {
   "cell_type": "code",
   "execution_count": null,
   "metadata": {},
   "outputs": [],
   "source": [
    "#author: Adrian J\n",
    "#notebook to run all the pipelines"
   ]
  },
  {
   "cell_type": "code",
   "execution_count": null,
   "metadata": {},
   "outputs": [],
   "source": [
    "#re-create required tables\n",
    "%run '/home/jovyan/work/starting_jobs/p01_re_create_tables.ipynb'"
   ]
  },
  {
   "cell_type": "code",
   "execution_count": null,
   "metadata": {},
   "outputs": [],
   "source": [
    "#start listener that writes into delta table\n",
    "#prints medata from upsert into delta table in uc_case zone\n",
    "#SOURCE:delta table 'r_sesssion_events' in raw zone\n",
    "#SINK:delta table 'uc_delta_session_events'\n",
    "%run '/home/jovyan/work/starting_jobs/p02_start_w_stream_to_delta.ipynb'"
   ]
  },
  {
   "cell_type": "code",
   "execution_count": null,
   "metadata": {},
   "outputs": [],
   "source": [
    "#start listener for cassandra and writes into the db\n",
    "#SOURCE:delta table 'r_sesssion_events' in raw zone\n",
    "#SINK: cassandra 'session_events'.'api_completed_sessions' & 'session_events'.'api_start_session_by_hour'\n",
    "%run '/home/jovyan/work/starting_jobs/p03_start_w_stream_cass.ipynb'"
   ]
  },
  {
   "cell_type": "code",
   "execution_count": null,
   "metadata": {},
   "outputs": [],
   "source": [
    "#download the assignment data and place it in the landingzone as raw zipped file\n",
    "#print infoo and file location when completed\n",
    "#SOURCE: URL download file from assingment\n",
    "#SINK: landingzone  assignment_data as raw zipped file\n",
    "%run '/home/jovyan/work/p1_url_to_lz.ipynb'"
   ]
  },
  {
   "cell_type": "code",
   "execution_count": null,
   "metadata": {},
   "outputs": [],
   "source": [
    "#read raw data and write into delta table in raw zone\n",
    "#listener will then stream data to 1. Cassandra 2.delta table\n",
    "#SOURCE: raw assingment zipped assingment data in landingzone\n",
    "#SINK: delta table 'r_session_events' in assingment data in raw zone\n",
    "%run '/home/jovyan/work/p2_lz_to_raw.ipynb'"
   ]
  }
 ],
 "metadata": {
  "kernelspec": {
   "display_name": "Python 3 (ipykernel)",
   "language": "python",
   "name": "python3"
  },
  "language_info": {
   "codemirror_mode": {
    "name": "ipython",
    "version": 3
   },
   "file_extension": ".py",
   "mimetype": "text/x-python",
   "name": "python",
   "nbconvert_exporter": "python",
   "pygments_lexer": "ipython3",
   "version": "3.9.12"
  }
 },
 "nbformat": 4,
 "nbformat_minor": 4
}
